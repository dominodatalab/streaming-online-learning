{
 "cells": [
  {
   "cell_type": "markdown",
   "metadata": {},
   "source": [
    "# Start experiments"
   ]
  },
  {
   "cell_type": "code",
   "execution_count": null,
   "metadata": {},
   "outputs": [],
   "source": [
    "from time import sleep\n",
    "from domino import Domino\n",
    "domino = Domino(\"katie_shakman/river-ml\")"
   ]
  },
  {
   "cell_type": "code",
   "execution_count": null,
   "metadata": {},
   "outputs": [],
   "source": [
    "# Arguments: \n",
    "# num_partitions_per_job, \n",
    "# list_of_partitions, \n",
    "# request_topic, \n",
    "# inference_topic, \n",
    "# bootstrap_servers # temporarily removed argument\n",
    "# model_name # ex: HoeffdingTreeClassifier30 # temporarily removed argument"
   ]
  },
  {
   "cell_type": "markdown",
   "metadata": {},
   "source": [
    "#### One Job, Eight Partitions"
   ]
  },
  {
   "cell_type": "code",
   "execution_count": null,
   "metadata": {},
   "outputs": [],
   "source": [
    "domino.runs_start([\"kafka_consumer_v2.py\", # Fill in with script name \n",
    "                   \"8\", \n",
    "                   \"[0,1,2,3,4,5,6,7]\", \n",
    "                   \"T8\", \n",
    "                   \"I16\", \n",
    "                   \"group_5\"\n",
    "                  ], \n",
    "                  title=\"Using 8 Partitions Per Job\")"
   ]
  },
  {
   "cell_type": "markdown",
   "metadata": {},
   "source": [
    "#### Two Jobs, Four Partitions Per Job"
   ]
  },
  {
   "cell_type": "code",
   "execution_count": null,
   "metadata": {},
   "outputs": [],
   "source": [
    "domino.runs_start([\"kafka_consumer_v2.py\", # Fill in with script name \n",
    "                   \"4\", \n",
    "                   \"[0,1,2,3]\", \n",
    "                   \"T8\", \n",
    "                   \"I17\", \n",
    "                   \"group_2\"\n",
    "                  ], \n",
    "                  title=\"Using 4 Partitions Per Job\")\n",
    "domino.runs_start([\"kafka_consumer_v2.py\", \n",
    "                   \"4\", \n",
    "                   \"[4,5,6,7]\", \n",
    "                   \"T8\", \n",
    "                   \"I17\", \n",
    "                   \"group_2\"\n",
    "                  ], \n",
    "                  title=\"Using 4 Partitions Per Job\")"
   ]
  },
  {
   "cell_type": "markdown",
   "metadata": {},
   "source": [
    "#### Four Jobs, Two Partitions Per Job"
   ]
  },
  {
   "cell_type": "code",
   "execution_count": null,
   "metadata": {},
   "outputs": [],
   "source": [
    "domino.runs_start([\"kafka_consumer_v2.py\", # Fill in with script name \n",
    "                   \"2\", \n",
    "                   \"[0,1]\", \n",
    "                   \"T8\", \n",
    "                   \"I18\", \n",
    "                   \"group_3\"\n",
    "                  ], \n",
    "                  title=\"Using 2 Partitions Per Job\")\n",
    "\n",
    "domino.runs_start([\"kafka_consumer_v2.py\", \n",
    "                   \"2\", \n",
    "                   \"[2,3]\", \n",
    "                   \"T8\", \n",
    "                   \"I18\", \n",
    "                   \"group_3\"\n",
    "                  ], \n",
    "                  title=\"Using 2 Partitions Per Job\")\n",
    "\n",
    "domino.runs_start([\"kafka_consumer_v2.py\", \n",
    "                   \"2\", \n",
    "                   \"[4,5]\", \n",
    "                   \"T8\", \n",
    "                   \"I18\",  \n",
    "                   \"group_3\"\n",
    "                  ], \n",
    "                  title=\"Using 2 Partitions Per Job\")\n",
    "\n",
    "domino.runs_start([\"kafka_consumer_v2.py\", \n",
    "                   \"2\", \n",
    "                   \"[6,7]\", \n",
    "                   \"T8\", \n",
    "                   \"I18\",  \n",
    "                   \"group_3\"\n",
    "                  ], \n",
    "                  title=\"Using 2 Partitions Per Job\")"
   ]
  }
 ],
 "metadata": {
  "kernelspec": {
   "display_name": "Python 3",
   "language": "python",
   "name": "python3"
  },
  "language_info": {
   "codemirror_mode": {
    "name": "ipython",
    "version": 3
   },
   "file_extension": ".py",
   "mimetype": "text/x-python",
   "name": "python",
   "nbconvert_exporter": "python",
   "pygments_lexer": "ipython3",
   "version": "3.7.4"
  }
 },
 "nbformat": 4,
 "nbformat_minor": 4
}
